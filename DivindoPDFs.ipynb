{
 "cells": [
  {
   "cell_type": "code",
   "execution_count": 6,
   "id": "29c121b7",
   "metadata": {},
   "outputs": [
    {
     "name": "stdout",
     "output_type": "stream",
     "text": [
      "Collecting PyPDF2\n",
      "  Using cached pypdf2-3.0.1-py3-none-any.whl (232 kB)\n",
      "Requirement already satisfied: typing_extensions>=3.10.0.0 in c:\\users\\cleito.araujo\\anaconda3\\lib\\site-packages (from PyPDF2) (4.3.0)\n",
      "Installing collected packages: PyPDF2\n",
      "Successfully installed PyPDF2-3.0.1\n",
      "Note: you may need to restart the kernel to use updated packages.\n"
     ]
    }
   ],
   "source": [
    "pip install PyPDF2"
   ]
  },
  {
   "cell_type": "code",
   "execution_count": 3,
   "id": "854e48ed",
   "metadata": {},
   "outputs": [],
   "source": [
    "import PyPDF2\n"
   ]
  },
  {
   "cell_type": "code",
   "execution_count": 7,
   "id": "ee4e9ea0",
   "metadata": {},
   "outputs": [
    {
     "name": "stdout",
     "output_type": "stream",
     "text": [
      "Digite o número da página que deseja extrair: 10\n"
     ]
    }
   ],
   "source": [
    "#declarando uma função chamada \"dividir_PDF\" que recebe os parâmetros(arquivoEntrada, arquivoSaida,  numero_pagina)\n",
    "\n",
    "def dividir_PDF(arquivoEntrada, arquivoSaida, numero_pagina):\n",
    "    #abre o arquivo de entrada no modo 'rb' e artribui o nome \"arquivo\" para esse procedimento\n",
    "    with open(arquivoEntrada, 'rb') as arquivo:\n",
    "        #criando um objeto de leitura do \"arquivo\"\n",
    "        leitorPDF = PyPDF2.PdfReader(arquivo)\n",
    "        \n",
    "        #criando uma condição \"se número de paginas foi maior ou igual a 1, ele irá criar um objeto de gravação\n",
    "        #e adicionar uma pagina\"\n",
    "        if 1 <= numero_pagina <= len(leitorPDF.pages):\n",
    "            #crianado o objeto de escrita(gravação)\n",
    "            pdf_writer = PyPDF2.PdfWriter()\n",
    "            pdf_writer.add_page(leitorPDF.pages[numero_pagina - 1])\n",
    "\n",
    "            # Cria o nome do arquivo de saída para a página desejada\n",
    "            output_file_path = f\"{pasta_saida}/PAGE.pdf\"\n",
    "\n",
    "            # Escreve a página no arquivo de saída\n",
    "            with open(output_file_path, 'wb') as output_file:\n",
    "                pdf_writer.write(output_file)\n",
    "        #caso as condições sejam falsas, ele irá imprimir a mensagem abaixo e dizer o tamanho do arquivo\n",
    "        else:\n",
    "            print(f\"Número de página inválido. O PDF possui {len(leitorPDF.pages)} páginas.\")\n",
    "\n",
    "if __name__== \"__main__\":\n",
    "    # Substitua 'seu_arquivo.pdf' pelo caminho do seu arquivo PDF de entrada\n",
    "    arquivoEntrada = 'document-0444364964-20231217.pdf'\n",
    "\n",
    "    # Substitua 'pasta_saida' pelo diretório onde você deseja salvar os PDFs divididos\n",
    "    pasta_saida = 'C:\\pythonDSA'\n",
    "\n",
    "    # Solicita ao usuário o número da página que deseja extrair\n",
    "    numero_pagina = int(input(\"Digite o número da página que deseja extrair: \"))\n",
    "\n",
    "    # Chama a função para dividir o PDF\n",
    "    dividir_PDF(arquivoEntrada, pasta_saida, numero_pagina)"
   ]
  },
  {
   "cell_type": "code",
   "execution_count": null,
   "id": "ab9454a3",
   "metadata": {},
   "outputs": [],
   "source": []
  }
 ],
 "metadata": {
  "kernelspec": {
   "display_name": "Python 3 (ipykernel)",
   "language": "python",
   "name": "python3"
  },
  "language_info": {
   "codemirror_mode": {
    "name": "ipython",
    "version": 3
   },
   "file_extension": ".py",
   "mimetype": "text/x-python",
   "name": "python",
   "nbconvert_exporter": "python",
   "pygments_lexer": "ipython3",
   "version": "3.9.13"
  }
 },
 "nbformat": 4,
 "nbformat_minor": 5
}
